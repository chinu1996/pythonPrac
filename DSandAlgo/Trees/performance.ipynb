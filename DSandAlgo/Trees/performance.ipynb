{
 "cells": [
  {
   "cell_type": "markdown",
   "metadata": {},
   "source": [
    "|Operation                    | Runningtime |\n",
    "|-----------------------------|-------------|\n",
    "|len, is_empty|O(1)|\n",
    "|root, parent, left, right, sibling, children, num_children|O(1)|\n",
    "|is_root, is_leaf|O(1)|\n",
    "|depth|O(dp+1)|\n",
    "|height|o(n)|\n",
    "|add_root, add_left, add_right, replace, delete, attach|O(1)|\n",
    "\n"
   ]
  },
  {
   "cell_type": "code",
   "execution_count": null,
   "metadata": {
    "collapsed": true
   },
   "outputs": [],
   "source": []
  }
 ],
 "metadata": {
  "kernelspec": {
   "display_name": "Python 3",
   "language": "python",
   "name": "python3"
  },
  "language_info": {
   "codemirror_mode": {
    "name": "ipython",
    "version": 3
   },
   "file_extension": ".py",
   "mimetype": "text/x-python",
   "name": "python",
   "nbconvert_exporter": "python",
   "pygments_lexer": "ipython3",
   "version": "3.6.3"
  }
 },
 "nbformat": 4,
 "nbformat_minor": 2
}
