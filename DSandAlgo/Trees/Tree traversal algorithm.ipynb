{
 "cells": [
  {
   "cell_type": "markdown",
   "metadata": {},
   "source": [
    "## Preorder Travesal and Postorder traversal\n"
   ]
  },
  {
   "cell_type": "markdown",
   "metadata": {},
   "source": [
    "<strong>Running time analysis</strong>\n"
   ]
  },
  {
   "cell_type": "markdown",
   "metadata": {},
   "source": [
    "Both ptreorder and psotorder traversal algorithms are efficient ways to access all the position of a tree\n",
    "At each position p, the non recursive part of the traversal algorithm requires time(Ocp+1), where cp is the number of children of p under the assumption that the \"visit\" itself takes O(1)\n",
    "Overall running time for the traversal of tree is O(n)\n",
    "\n"
   ]
  },
  {
   "cell_type": "code",
   "execution_count": 1,
   "metadata": {
    "collapsed": true
   },
   "outputs": [],
   "source": [
    "class Tree:\n",
    "    \"\"\"An abstract base class representing a tree structure\"\"\"\n",
    "\n",
    "    # --------nested Position class-----\n",
    "    class Position:\n",
    "        \"\"\"An abstraction representing a location of a single element\"\"\"\n",
    "\n",
    "        def element(self):\n",
    "            \"\"\"Return the element stored at this position\"\"\"\n",
    "            raise NotImplementedError('must be implemented by a subclass')\n",
    "\n",
    "        def __eq__(self, other):\n",
    "            \"\"\"return true if the position represents the same location\"\"\"\n",
    "            raise NotImplementedError('must be implemented by a subclass')\n",
    "\n",
    "        def __ne__(self, other):\n",
    "            \"\"\"Return true if the other does not represent the same location\"\"\"\n",
    "            return not (self == other)\n",
    "\n",
    "    # -------abstract methods that concrete subclass must support-----\n",
    "    def root(self):\n",
    "        \"\"\"Return Position representing the trees root\"\"\"\n",
    "        raise NotImplementedError('must be implemented by a subclass')\n",
    "\n",
    "    def parent(self, p):\n",
    "        \"\"\"Return the postion representing P's parent\"\"\"\n",
    "        raise NotImplementedError('must be implemented by a subclass')\n",
    "\n",
    "    def num_children(self, p):\n",
    "        \"\"\"Return the number of the children that position p has\"\"\"\n",
    "        raise NotImplementedError('must be implemented by a subclass')\n",
    "\n",
    "    def children(self, p):\n",
    "        \"\"\"Generate an iteration og Postions representing p's children\"\"\"\n",
    "        raise NotImplementedError('must be implemented by a subclass')\n",
    "\n",
    "    def __len__(self):\n",
    "        \"\"\"Return the total number of elements in the tree\"\"\"\n",
    "        raise NotImplementedError('must be implemented by a subclass')\n",
    "\n",
    "    # ---------concrete methods implemented in this class-----\n",
    "    def is_root(self, p):\n",
    "        \"\"\"Return True if the element p is the root\"\"\"\n",
    "        return self.root() == p\n",
    "\n",
    "    def is_leaf(self, p):\n",
    "        \"\"\"Return true if the element p does not have any children\"\"\"\n",
    "        return self.num_children(p) == 0\n",
    "\n",
    "    def is_empty(self):\n",
    "        \"\"\"Return true if the tree is empty\"\"\"\n",
    "        return len(self) == 0\n",
    "\n",
    "    def depth(self, p):\n",
    "        \"\"\"Return the number of levels separating Position p from the root\"\"\"\n",
    "        if self.is_root(p):\n",
    "            return 0\n",
    "        else:\n",
    "            return 1 + self.depth(self.parent(p))\n",
    "\n",
    "    def _height2(self, p):\n",
    "        \"\"\"Return the height of the tree at posititon p\"\"\"\n",
    "        if self.is_leaf(p):\n",
    "            return 0\n",
    "        else:\n",
    "            return 1 + max(self._height2(c) for c in self.children(p))\n",
    "\n",
    "    def height(self, p=None):\n",
    "        \"\"\"return the height of the tree at position p\n",
    "\n",
    "        If there is no p then return the height of the entire tree\"\"\"\n",
    "        if p is None:\n",
    "            p = self.root()\n",
    "        return self._height2(p)\n",
    "    \n",
    "    \n"
   ]
  }
 ],
 "metadata": {
  "kernelspec": {
   "display_name": "Python 3",
   "language": "python",
   "name": "python3"
  },
  "language_info": {
   "codemirror_mode": {
    "name": "ipython",
    "version": 3
   },
   "file_extension": ".py",
   "mimetype": "text/x-python",
   "name": "python",
   "nbconvert_exporter": "python",
   "pygments_lexer": "ipython3",
   "version": "3.6.3"
  }
 },
 "nbformat": 4,
 "nbformat_minor": 2
}
