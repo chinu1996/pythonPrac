{
 "cells": [
  {
   "cell_type": "code",
   "execution_count": 1,
   "metadata": {
    "collapsed": true
   },
   "outputs": [],
   "source": [
    "import numpy as np\n",
    "import matplotlib.pyplot as plt\n",
    "import pandas as pd\n",
    "import mglearn \n",
    "%matplotlib inline"
   ]
  },
  {
   "cell_type": "code",
   "execution_count": 2,
   "metadata": {},
   "outputs": [
    {
     "name": "stdout",
     "output_type": "stream",
     "text": [
      "Requirement already satisfied: mglearn in /home/das/anaconda3/lib/python3.6/site-packages\n",
      "Requirement already satisfied: pandas in /home/das/anaconda3/lib/python3.6/site-packages (from mglearn)\n",
      "Requirement already satisfied: scikit-learn in /home/das/anaconda3/lib/python3.6/site-packages (from mglearn)\n",
      "Requirement already satisfied: numpy in /home/das/anaconda3/lib/python3.6/site-packages (from mglearn)\n",
      "Requirement already satisfied: cycler in /home/das/anaconda3/lib/python3.6/site-packages (from mglearn)\n",
      "Requirement already satisfied: pillow in /home/das/anaconda3/lib/python3.6/site-packages (from mglearn)\n",
      "Requirement already satisfied: matplotlib in /home/das/anaconda3/lib/python3.6/site-packages (from mglearn)\n",
      "Requirement already satisfied: python-dateutil>=2 in /home/das/anaconda3/lib/python3.6/site-packages (from pandas->mglearn)\n",
      "Requirement already satisfied: pytz>=2011k in /home/das/anaconda3/lib/python3.6/site-packages (from pandas->mglearn)\n",
      "Requirement already satisfied: six in /home/das/anaconda3/lib/python3.6/site-packages (from cycler->mglearn)\n",
      "Requirement already satisfied: olefile in /home/das/anaconda3/lib/python3.6/site-packages (from pillow->mglearn)\n",
      "Requirement already satisfied: pyparsing!=2.0.4,!=2.1.2,!=2.1.6,>=1.5.6 in /home/das/anaconda3/lib/python3.6/site-packages (from matplotlib->mglearn)\n"
     ]
    }
   ],
   "source": [
    "!pip install mglearn"
   ]
  },
  {
   "cell_type": "code",
   "execution_count": 3,
   "metadata": {},
   "outputs": [
    {
     "data": {
      "text/plain": [
       "<matplotlib.text.Text at 0x7f9845685eb8>"
      ]
     },
     "execution_count": 3,
     "metadata": {},
     "output_type": "execute_result"
    },
    {
     "data": {
      "image/png": "[encoded data removed]",
      "text/plain": [
       "<matplotlib.figure.Figure at 0x7f984dceec18>"
      ]
     },
     "metadata": {},
     "output_type": "display_data"
    }
   ],
   "source": [
    "X, y = mglearn.datasets.make_wave(n_samples=40)\n",
    "plt.plot(X, y, 'o')\n",
    "plt.ylim(-3,3)\n",
    "plt.xlabel(\"Feature\")\n",
    "plt.ylabel(\"target\")"
   ]
  }
 ],
 "metadata": {
  "kernelspec": {
   "display_name": "Python 3",
   "language": "python",
   "name": "python3"
  },
  "language_info": {
   "codemirror_mode": {
    "name": "ipython",
    "version": 3
   },
   "file_extension": ".py",
   "mimetype": "text/x-python",
   "name": "python",
   "nbconvert_exporter": "python",
   "pygments_lexer": "ipython3",
   "version": "3.6.2"
  }
 },
 "nbformat": 4,
 "nbformat_minor": 2
}
